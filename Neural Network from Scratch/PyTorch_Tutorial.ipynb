{
 "cells": [
  {
   "cell_type": "markdown",
   "metadata": {},
   "source": [
    "# Import Dependencies"
   ]
  },
  {
   "cell_type": "code",
   "execution_count": null,
   "metadata": {},
   "outputs": [],
   "source": [
    "import torch \n",
    "from PIL import Image\n",
    "from torch import nn, save, load\n",
    "from torch.optim import Adam\n",
    "from torch.utils.data import DataLoader\n",
    "from torchvision import datasets\n",
    "from torchvision.transforms import ToTensor"
   ]
  },
  {
   "cell_type": "markdown",
   "metadata": {},
   "source": [
    "# Get Data"
   ]
  },
  {
   "cell_type": "code",
   "execution_count": null,
   "metadata": {},
   "outputs": [],
   "source": [
    "# shape = (1, 28, 28) -> class: 0-9\n",
    "train = datasets.MNIST(\n",
    "    root=\"data\", download=True, train=True, \n",
    "    transform=ToTensor()\n",
    ")\n",
    "\n",
    "# batches of 32 images\n",
    "dataset = DataLoader(train, 32)"
   ]
  },
  {
   "cell_type": "markdown",
   "metadata": {},
   "source": [
    "# Model"
   ]
  },
  {
   "cell_type": "code",
   "execution_count": null,
   "metadata": {},
   "outputs": [],
   "source": [
    "class ImageClassifier(nn.Module):\n",
    "    def __init__(self):\n",
    "        super().__init__()\n",
    "        self.model = nn.Sequential(                     # Convolutional Layer (main building block of a CNN)\n",
    "            nn.Conv2d(1, 32, (3, 3)),                   # 1 input channel (black/white), 32 filters of shape (3, 3)\n",
    "            nn.ReLU(),                                  # Activation Function to handle non-linearity\n",
    "            nn.Conv2d(32, 64, (3, 3)),                  # 32 input channels, 64 output channels\n",
    "            nn.ReLU(),                                  # Activation Function to handle non-linearity\n",
    "            nn.Conv2d(64, 64, (3, 3)),                  # 64 input channels, 64 output channels\n",
    "            nn.ReLU(),                                  # Activation Function to handle non-linearity\n",
    "            nn.Flatten(),                               # Flatten Layer to 1 dimension\n",
    "            nn.Linear(64 * (28 - 6) * (28 - 6), 10)     # 64 (from last output) * 3 Convolutional layer (3 * 2 = 6)\n",
    "        )                                               # Image size = (1, 28, 28) -> remove pixels (28 - 6), 10 classes\n",
    "\n",
    "    def forward(self, x):\n",
    "        return self.model(x)"
   ]
  },
  {
   "cell_type": "code",
   "execution_count": null,
   "metadata": {},
   "outputs": [],
   "source": [
    "# Instance of the neural network, loss, optimizer\n",
    "clf = ImageClassifier().to('cuda')\n",
    "opt = Adam(clf.parameters(), lr=1e-3)\n",
    "loss_fn = nn.CrossEntropyLoss()"
   ]
  },
  {
   "cell_type": "markdown",
   "metadata": {},
   "source": [
    "# Train Model"
   ]
  },
  {
   "cell_type": "code",
   "execution_count": null,
   "metadata": {},
   "outputs": [],
   "source": [
    "# train for 10 epochs\n",
    "for epoch in range(10):\n",
    "    for batch in dataset:\n",
    "        x, y = batch\n",
    "        x, y = x.to('cuda'), y.to('cuda')\n",
    "        yhat = clf(x)\n",
    "        loss = loss_fn(yhat, y)\n",
    "\n",
    "        # apply backprop\n",
    "        opt.zero_grad()\n",
    "        loss.backward()\n",
    "        opt.step()\n",
    "\n",
    "    print(f\"Epoch: {epoch}, loss: {loss.item()}\")"
   ]
  },
  {
   "cell_type": "markdown",
   "metadata": {},
   "source": [
    "# Save and reload model"
   ]
  },
  {
   "cell_type": "code",
   "execution_count": null,
   "metadata": {},
   "outputs": [],
   "source": [
    "# save model\n",
    "with open('model_state.pt', 'wb') as f: \n",
    "    save(clf.state_dict(), f)"
   ]
  },
  {
   "cell_type": "code",
   "execution_count": null,
   "metadata": {},
   "outputs": [],
   "source": [
    "# load model\n",
    "with open('model_state.pt', 'rb') as f: \n",
    "    clf.load_state_dict(load(f))"
   ]
  },
  {
   "cell_type": "markdown",
   "metadata": {},
   "source": [
    "# Test Model"
   ]
  },
  {
   "cell_type": "code",
   "execution_count": 1,
   "metadata": {},
   "outputs": [
    {
     "name": "stdout",
     "output_type": "stream",
     "text": [
      "tensor(2, device='cuda:0')\n"
     ]
    }
   ],
   "source": [
    "img = Image.open('test_image.jpg') \n",
    "img_tensor = ToTensor()(img).unsqueeze(0).to('cuda')\n",
    "\n",
    "print(torch.argmax(clf(img_tensor)))"
   ]
  }
 ],
 "metadata": {
  "interpreter": {
   "hash": "afb734500600fd355917ca529030176ea0ca205570884b88f2f6f7d791fd3fbe"
  },
  "kernelspec": {
   "display_name": "Python 3.10.4 64-bit",
   "language": "python",
   "name": "python3"
  },
  "language_info": {
   "codemirror_mode": {
    "name": "ipython",
    "version": 3
   },
   "file_extension": ".py",
   "mimetype": "text/x-python",
   "name": "python",
   "nbconvert_exporter": "python",
   "pygments_lexer": "ipython3",
   "version": "3.10.4"
  },
  "orig_nbformat": 4
 },
 "nbformat": 4,
 "nbformat_minor": 2
}
